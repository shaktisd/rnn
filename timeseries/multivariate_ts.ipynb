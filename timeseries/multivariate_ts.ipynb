{
 "cells": [
  {
   "cell_type": "code",
   "execution_count": 3,
   "metadata": {},
   "outputs": [],
   "source": [
    "from math import sqrt\n",
    "from numpy import concatenate\n",
    "from matplotlib import pyplot\n",
    "from pandas import read_csv\n",
    "from pandas import DataFrame\n",
    "from pandas import concat\n",
    "from sklearn.preprocessing import MinMaxScaler\n",
    "from sklearn.preprocessing import LabelEncoder\n",
    "from sklearn.metrics import mean_squared_error\n",
    "from keras.models import Sequential\n",
    "from keras.layers import Dense\n",
    "from keras.layers import LSTM"
   ]
  },
  {
   "cell_type": "code",
   "execution_count": 4,
   "metadata": {},
   "outputs": [],
   "source": [
    "# convert series to supervised learning\n",
    "def series_to_supervised(data, n_in=1, n_out=1, dropnan=True):\n",
    "    n_vars = 1 if type(data) is list else data.shape[1]\n",
    "    df = DataFrame(data)\n",
    "    cols, names = list(), list()\n",
    "    # input sequence (t-n, ... t-1)\n",
    "    for i in range(n_in, 0, -1):\n",
    "        cols.append(df.shift(i))\n",
    "        names += [('var%d(t-%d)' % (j + 1, i)) for j in range(n_vars)]\n",
    "    # forecast sequence (t, t+1, ... t+n)\n",
    "    for i in range(0, n_out):\n",
    "        cols.append(df.shift(-i))\n",
    "        if i == 0:\n",
    "            names += [('var%d(t)' % (j + 1)) for j in range(n_vars)]\n",
    "        else:\n",
    "            names += [('var%d(t+%d)' % (j + 1, i)) for j in range(n_vars)]\n",
    "    # put it all together\n",
    "    agg = concat(cols, axis=1)\n",
    "    agg.columns = names\n",
    "    # drop rows with NaN values\n",
    "    if dropnan:\n",
    "        agg.dropna(inplace=True)\n",
    "    return agg"
   ]
  },
  {
   "cell_type": "code",
   "execution_count": 47,
   "metadata": {},
   "outputs": [
    {
     "data": {
      "text/html": [
       "<div>\n",
       "<style scoped>\n",
       "    .dataframe tbody tr th:only-of-type {\n",
       "        vertical-align: middle;\n",
       "    }\n",
       "\n",
       "    .dataframe tbody tr th {\n",
       "        vertical-align: top;\n",
       "    }\n",
       "\n",
       "    .dataframe thead th {\n",
       "        text-align: right;\n",
       "    }\n",
       "</style>\n",
       "<table border=\"1\" class=\"dataframe\">\n",
       "  <thead>\n",
       "    <tr style=\"text-align: right;\">\n",
       "      <th></th>\n",
       "      <th>year</th>\n",
       "      <th>month</th>\n",
       "      <th>day</th>\n",
       "      <th>hour</th>\n",
       "      <th>DEWP</th>\n",
       "      <th>TEMP</th>\n",
       "      <th>PRES</th>\n",
       "      <th>Iws</th>\n",
       "      <th>Is</th>\n",
       "      <th>Ir</th>\n",
       "      <th>encoded_cbwd</th>\n",
       "      <th>y</th>\n",
       "    </tr>\n",
       "    <tr>\n",
       "      <th>No</th>\n",
       "      <th></th>\n",
       "      <th></th>\n",
       "      <th></th>\n",
       "      <th></th>\n",
       "      <th></th>\n",
       "      <th></th>\n",
       "      <th></th>\n",
       "      <th></th>\n",
       "      <th></th>\n",
       "      <th></th>\n",
       "      <th></th>\n",
       "      <th></th>\n",
       "    </tr>\n",
       "  </thead>\n",
       "  <tbody>\n",
       "    <tr>\n",
       "      <th>24</th>\n",
       "      <td>2010</td>\n",
       "      <td>1</td>\n",
       "      <td>1</td>\n",
       "      <td>23</td>\n",
       "      <td>-17</td>\n",
       "      <td>-5.0</td>\n",
       "      <td>1020.0</td>\n",
       "      <td>0.89</td>\n",
       "      <td>0</td>\n",
       "      <td>0</td>\n",
       "      <td>3</td>\n",
       "      <td>129.0</td>\n",
       "    </tr>\n",
       "    <tr>\n",
       "      <th>25</th>\n",
       "      <td>2010</td>\n",
       "      <td>1</td>\n",
       "      <td>2</td>\n",
       "      <td>0</td>\n",
       "      <td>-16</td>\n",
       "      <td>-4.0</td>\n",
       "      <td>1020.0</td>\n",
       "      <td>1.79</td>\n",
       "      <td>0</td>\n",
       "      <td>0</td>\n",
       "      <td>2</td>\n",
       "      <td>148.0</td>\n",
       "    </tr>\n",
       "    <tr>\n",
       "      <th>26</th>\n",
       "      <td>2010</td>\n",
       "      <td>1</td>\n",
       "      <td>2</td>\n",
       "      <td>1</td>\n",
       "      <td>-15</td>\n",
       "      <td>-4.0</td>\n",
       "      <td>1020.0</td>\n",
       "      <td>2.68</td>\n",
       "      <td>0</td>\n",
       "      <td>0</td>\n",
       "      <td>2</td>\n",
       "      <td>159.0</td>\n",
       "    </tr>\n",
       "    <tr>\n",
       "      <th>27</th>\n",
       "      <td>2010</td>\n",
       "      <td>1</td>\n",
       "      <td>2</td>\n",
       "      <td>2</td>\n",
       "      <td>-11</td>\n",
       "      <td>-5.0</td>\n",
       "      <td>1021.0</td>\n",
       "      <td>3.57</td>\n",
       "      <td>0</td>\n",
       "      <td>0</td>\n",
       "      <td>2</td>\n",
       "      <td>181.0</td>\n",
       "    </tr>\n",
       "    <tr>\n",
       "      <th>28</th>\n",
       "      <td>2010</td>\n",
       "      <td>1</td>\n",
       "      <td>2</td>\n",
       "      <td>3</td>\n",
       "      <td>-7</td>\n",
       "      <td>-5.0</td>\n",
       "      <td>1022.0</td>\n",
       "      <td>5.36</td>\n",
       "      <td>1</td>\n",
       "      <td>0</td>\n",
       "      <td>2</td>\n",
       "      <td>138.0</td>\n",
       "    </tr>\n",
       "    <tr>\n",
       "      <th>...</th>\n",
       "      <td>...</td>\n",
       "      <td>...</td>\n",
       "      <td>...</td>\n",
       "      <td>...</td>\n",
       "      <td>...</td>\n",
       "      <td>...</td>\n",
       "      <td>...</td>\n",
       "      <td>...</td>\n",
       "      <td>...</td>\n",
       "      <td>...</td>\n",
       "      <td>...</td>\n",
       "      <td>...</td>\n",
       "    </tr>\n",
       "    <tr>\n",
       "      <th>43819</th>\n",
       "      <td>2014</td>\n",
       "      <td>12</td>\n",
       "      <td>31</td>\n",
       "      <td>18</td>\n",
       "      <td>-22</td>\n",
       "      <td>-2.0</td>\n",
       "      <td>1033.0</td>\n",
       "      <td>226.16</td>\n",
       "      <td>0</td>\n",
       "      <td>0</td>\n",
       "      <td>1</td>\n",
       "      <td>8.0</td>\n",
       "    </tr>\n",
       "    <tr>\n",
       "      <th>43820</th>\n",
       "      <td>2014</td>\n",
       "      <td>12</td>\n",
       "      <td>31</td>\n",
       "      <td>19</td>\n",
       "      <td>-23</td>\n",
       "      <td>-2.0</td>\n",
       "      <td>1034.0</td>\n",
       "      <td>231.97</td>\n",
       "      <td>0</td>\n",
       "      <td>0</td>\n",
       "      <td>1</td>\n",
       "      <td>10.0</td>\n",
       "    </tr>\n",
       "    <tr>\n",
       "      <th>43821</th>\n",
       "      <td>2014</td>\n",
       "      <td>12</td>\n",
       "      <td>31</td>\n",
       "      <td>20</td>\n",
       "      <td>-22</td>\n",
       "      <td>-3.0</td>\n",
       "      <td>1034.0</td>\n",
       "      <td>237.78</td>\n",
       "      <td>0</td>\n",
       "      <td>0</td>\n",
       "      <td>1</td>\n",
       "      <td>10.0</td>\n",
       "    </tr>\n",
       "    <tr>\n",
       "      <th>43822</th>\n",
       "      <td>2014</td>\n",
       "      <td>12</td>\n",
       "      <td>31</td>\n",
       "      <td>21</td>\n",
       "      <td>-22</td>\n",
       "      <td>-3.0</td>\n",
       "      <td>1034.0</td>\n",
       "      <td>242.70</td>\n",
       "      <td>0</td>\n",
       "      <td>0</td>\n",
       "      <td>1</td>\n",
       "      <td>8.0</td>\n",
       "    </tr>\n",
       "    <tr>\n",
       "      <th>43823</th>\n",
       "      <td>2014</td>\n",
       "      <td>12</td>\n",
       "      <td>31</td>\n",
       "      <td>22</td>\n",
       "      <td>-22</td>\n",
       "      <td>-4.0</td>\n",
       "      <td>1034.0</td>\n",
       "      <td>246.72</td>\n",
       "      <td>0</td>\n",
       "      <td>0</td>\n",
       "      <td>1</td>\n",
       "      <td>12.0</td>\n",
       "    </tr>\n",
       "  </tbody>\n",
       "</table>\n",
       "<p>41757 rows × 12 columns</p>\n",
       "</div>"
      ],
      "text/plain": [
       "       year  month  day  hour  DEWP  TEMP    PRES     Iws  Is  Ir  \\\n",
       "No                                                                  \n",
       "24     2010      1    1    23   -17  -5.0  1020.0    0.89   0   0   \n",
       "25     2010      1    2     0   -16  -4.0  1020.0    1.79   0   0   \n",
       "26     2010      1    2     1   -15  -4.0  1020.0    2.68   0   0   \n",
       "27     2010      1    2     2   -11  -5.0  1021.0    3.57   0   0   \n",
       "28     2010      1    2     3    -7  -5.0  1022.0    5.36   1   0   \n",
       "...     ...    ...  ...   ...   ...   ...     ...     ...  ..  ..   \n",
       "43819  2014     12   31    18   -22  -2.0  1033.0  226.16   0   0   \n",
       "43820  2014     12   31    19   -23  -2.0  1034.0  231.97   0   0   \n",
       "43821  2014     12   31    20   -22  -3.0  1034.0  237.78   0   0   \n",
       "43822  2014     12   31    21   -22  -3.0  1034.0  242.70   0   0   \n",
       "43823  2014     12   31    22   -22  -4.0  1034.0  246.72   0   0   \n",
       "\n",
       "       encoded_cbwd      y  \n",
       "No                          \n",
       "24                3  129.0  \n",
       "25                2  148.0  \n",
       "26                2  159.0  \n",
       "27                2  181.0  \n",
       "28                2  138.0  \n",
       "...             ...    ...  \n",
       "43819             1    8.0  \n",
       "43820             1   10.0  \n",
       "43821             1   10.0  \n",
       "43822             1    8.0  \n",
       "43823             1   12.0  \n",
       "\n",
       "[41757 rows x 12 columns]"
      ]
     },
     "execution_count": 47,
     "metadata": {},
     "output_type": "execute_result"
    }
   ],
   "source": [
    "df = read_csv('PRSA_data_2010.1.1-2014.12.31.csv', index_col=0)\n",
    "encoder = LabelEncoder()\n",
    "df['encoded_cbwd'] = encoder.fit_transform(df['cbwd'])\n",
    "df = df.drop(['cbwd'], axis=1)\n",
    "\n",
    "df['y'] = df['pm2.5'].shift(-1)\n",
    "df = df.dropna(subset=['y'])\n",
    "df = df.drop(['pm2.5'], axis=1)\n",
    "df"
   ]
  },
  {
   "cell_type": "code",
   "execution_count": 33,
   "metadata": {},
   "outputs": [],
   "source": []
  },
  {
   "cell_type": "code",
   "execution_count": 36,
   "metadata": {},
   "outputs": [],
   "source": []
  },
  {
   "cell_type": "code",
   "execution_count": 40,
   "metadata": {},
   "outputs": [],
   "source": []
  },
  {
   "cell_type": "code",
   "execution_count": 42,
   "metadata": {},
   "outputs": [],
   "source": []
  },
  {
   "cell_type": "code",
   "execution_count": 44,
   "metadata": {},
   "outputs": [],
   "source": []
  },
  {
   "cell_type": "code",
   "execution_count": 45,
   "metadata": {},
   "outputs": [
    {
     "data": {
      "text/html": [
       "<div>\n",
       "<style scoped>\n",
       "    .dataframe tbody tr th:only-of-type {\n",
       "        vertical-align: middle;\n",
       "    }\n",
       "\n",
       "    .dataframe tbody tr th {\n",
       "        vertical-align: top;\n",
       "    }\n",
       "\n",
       "    .dataframe thead th {\n",
       "        text-align: right;\n",
       "    }\n",
       "</style>\n",
       "<table border=\"1\" class=\"dataframe\">\n",
       "  <thead>\n",
       "    <tr style=\"text-align: right;\">\n",
       "      <th></th>\n",
       "      <th>year</th>\n",
       "      <th>month</th>\n",
       "      <th>day</th>\n",
       "      <th>hour</th>\n",
       "      <th>DEWP</th>\n",
       "      <th>TEMP</th>\n",
       "      <th>PRES</th>\n",
       "      <th>Iws</th>\n",
       "      <th>Is</th>\n",
       "      <th>Ir</th>\n",
       "      <th>y</th>\n",
       "      <th>encoded_cbwd</th>\n",
       "    </tr>\n",
       "    <tr>\n",
       "      <th>No</th>\n",
       "      <th></th>\n",
       "      <th></th>\n",
       "      <th></th>\n",
       "      <th></th>\n",
       "      <th></th>\n",
       "      <th></th>\n",
       "      <th></th>\n",
       "      <th></th>\n",
       "      <th></th>\n",
       "      <th></th>\n",
       "      <th></th>\n",
       "      <th></th>\n",
       "    </tr>\n",
       "  </thead>\n",
       "  <tbody>\n",
       "    <tr>\n",
       "      <th>24</th>\n",
       "      <td>2010</td>\n",
       "      <td>1</td>\n",
       "      <td>1</td>\n",
       "      <td>23</td>\n",
       "      <td>-17</td>\n",
       "      <td>-5.0</td>\n",
       "      <td>1020.0</td>\n",
       "      <td>0.89</td>\n",
       "      <td>0</td>\n",
       "      <td>0</td>\n",
       "      <td>129.0</td>\n",
       "      <td>3</td>\n",
       "    </tr>\n",
       "    <tr>\n",
       "      <th>25</th>\n",
       "      <td>2010</td>\n",
       "      <td>1</td>\n",
       "      <td>2</td>\n",
       "      <td>0</td>\n",
       "      <td>-16</td>\n",
       "      <td>-4.0</td>\n",
       "      <td>1020.0</td>\n",
       "      <td>1.79</td>\n",
       "      <td>0</td>\n",
       "      <td>0</td>\n",
       "      <td>148.0</td>\n",
       "      <td>2</td>\n",
       "    </tr>\n",
       "    <tr>\n",
       "      <th>26</th>\n",
       "      <td>2010</td>\n",
       "      <td>1</td>\n",
       "      <td>2</td>\n",
       "      <td>1</td>\n",
       "      <td>-15</td>\n",
       "      <td>-4.0</td>\n",
       "      <td>1020.0</td>\n",
       "      <td>2.68</td>\n",
       "      <td>0</td>\n",
       "      <td>0</td>\n",
       "      <td>159.0</td>\n",
       "      <td>2</td>\n",
       "    </tr>\n",
       "    <tr>\n",
       "      <th>27</th>\n",
       "      <td>2010</td>\n",
       "      <td>1</td>\n",
       "      <td>2</td>\n",
       "      <td>2</td>\n",
       "      <td>-11</td>\n",
       "      <td>-5.0</td>\n",
       "      <td>1021.0</td>\n",
       "      <td>3.57</td>\n",
       "      <td>0</td>\n",
       "      <td>0</td>\n",
       "      <td>181.0</td>\n",
       "      <td>2</td>\n",
       "    </tr>\n",
       "    <tr>\n",
       "      <th>28</th>\n",
       "      <td>2010</td>\n",
       "      <td>1</td>\n",
       "      <td>2</td>\n",
       "      <td>3</td>\n",
       "      <td>-7</td>\n",
       "      <td>-5.0</td>\n",
       "      <td>1022.0</td>\n",
       "      <td>5.36</td>\n",
       "      <td>1</td>\n",
       "      <td>0</td>\n",
       "      <td>138.0</td>\n",
       "      <td>2</td>\n",
       "    </tr>\n",
       "    <tr>\n",
       "      <th>...</th>\n",
       "      <td>...</td>\n",
       "      <td>...</td>\n",
       "      <td>...</td>\n",
       "      <td>...</td>\n",
       "      <td>...</td>\n",
       "      <td>...</td>\n",
       "      <td>...</td>\n",
       "      <td>...</td>\n",
       "      <td>...</td>\n",
       "      <td>...</td>\n",
       "      <td>...</td>\n",
       "      <td>...</td>\n",
       "    </tr>\n",
       "    <tr>\n",
       "      <th>43819</th>\n",
       "      <td>2014</td>\n",
       "      <td>12</td>\n",
       "      <td>31</td>\n",
       "      <td>18</td>\n",
       "      <td>-22</td>\n",
       "      <td>-2.0</td>\n",
       "      <td>1033.0</td>\n",
       "      <td>226.16</td>\n",
       "      <td>0</td>\n",
       "      <td>0</td>\n",
       "      <td>8.0</td>\n",
       "      <td>1</td>\n",
       "    </tr>\n",
       "    <tr>\n",
       "      <th>43820</th>\n",
       "      <td>2014</td>\n",
       "      <td>12</td>\n",
       "      <td>31</td>\n",
       "      <td>19</td>\n",
       "      <td>-23</td>\n",
       "      <td>-2.0</td>\n",
       "      <td>1034.0</td>\n",
       "      <td>231.97</td>\n",
       "      <td>0</td>\n",
       "      <td>0</td>\n",
       "      <td>10.0</td>\n",
       "      <td>1</td>\n",
       "    </tr>\n",
       "    <tr>\n",
       "      <th>43821</th>\n",
       "      <td>2014</td>\n",
       "      <td>12</td>\n",
       "      <td>31</td>\n",
       "      <td>20</td>\n",
       "      <td>-22</td>\n",
       "      <td>-3.0</td>\n",
       "      <td>1034.0</td>\n",
       "      <td>237.78</td>\n",
       "      <td>0</td>\n",
       "      <td>0</td>\n",
       "      <td>10.0</td>\n",
       "      <td>1</td>\n",
       "    </tr>\n",
       "    <tr>\n",
       "      <th>43822</th>\n",
       "      <td>2014</td>\n",
       "      <td>12</td>\n",
       "      <td>31</td>\n",
       "      <td>21</td>\n",
       "      <td>-22</td>\n",
       "      <td>-3.0</td>\n",
       "      <td>1034.0</td>\n",
       "      <td>242.70</td>\n",
       "      <td>0</td>\n",
       "      <td>0</td>\n",
       "      <td>8.0</td>\n",
       "      <td>1</td>\n",
       "    </tr>\n",
       "    <tr>\n",
       "      <th>43823</th>\n",
       "      <td>2014</td>\n",
       "      <td>12</td>\n",
       "      <td>31</td>\n",
       "      <td>22</td>\n",
       "      <td>-22</td>\n",
       "      <td>-4.0</td>\n",
       "      <td>1034.0</td>\n",
       "      <td>246.72</td>\n",
       "      <td>0</td>\n",
       "      <td>0</td>\n",
       "      <td>12.0</td>\n",
       "      <td>1</td>\n",
       "    </tr>\n",
       "  </tbody>\n",
       "</table>\n",
       "<p>41757 rows × 12 columns</p>\n",
       "</div>"
      ],
      "text/plain": [
       "       year  month  day  hour  DEWP  TEMP    PRES     Iws  Is  Ir      y  \\\n",
       "No                                                                         \n",
       "24     2010      1    1    23   -17  -5.0  1020.0    0.89   0   0  129.0   \n",
       "25     2010      1    2     0   -16  -4.0  1020.0    1.79   0   0  148.0   \n",
       "26     2010      1    2     1   -15  -4.0  1020.0    2.68   0   0  159.0   \n",
       "27     2010      1    2     2   -11  -5.0  1021.0    3.57   0   0  181.0   \n",
       "28     2010      1    2     3    -7  -5.0  1022.0    5.36   1   0  138.0   \n",
       "...     ...    ...  ...   ...   ...   ...     ...     ...  ..  ..    ...   \n",
       "43819  2014     12   31    18   -22  -2.0  1033.0  226.16   0   0    8.0   \n",
       "43820  2014     12   31    19   -23  -2.0  1034.0  231.97   0   0   10.0   \n",
       "43821  2014     12   31    20   -22  -3.0  1034.0  237.78   0   0   10.0   \n",
       "43822  2014     12   31    21   -22  -3.0  1034.0  242.70   0   0    8.0   \n",
       "43823  2014     12   31    22   -22  -4.0  1034.0  246.72   0   0   12.0   \n",
       "\n",
       "       encoded_cbwd  \n",
       "No                   \n",
       "24                3  \n",
       "25                2  \n",
       "26                2  \n",
       "27                2  \n",
       "28                2  \n",
       "...             ...  \n",
       "43819             1  \n",
       "43820             1  \n",
       "43821             1  \n",
       "43822             1  \n",
       "43823             1  \n",
       "\n",
       "[41757 rows x 12 columns]"
      ]
     },
     "execution_count": 45,
     "metadata": {},
     "output_type": "execute_result"
    }
   ],
   "source": [
    "df"
   ]
  },
  {
   "cell_type": "code",
   "execution_count": 5,
   "metadata": {},
   "outputs": [
    {
     "name": "stdout",
     "output_type": "stream",
     "text": [
      "   var1(t-1)  var2(t-1)  var3(t-1)  var4(t-1)  var5(t-1)  var6(t-1)  \\\n",
      "1        0.0        0.0        0.0   0.000000        1.0   0.279412   \n",
      "2        0.0        0.0        0.0   0.043478        1.0   0.279412   \n",
      "3        0.0        0.0        0.0   0.086957        1.0   0.279412   \n",
      "4        0.0        0.0        0.0   0.130435        1.0   0.279412   \n",
      "5        0.0        0.0        0.0   0.173913        1.0   0.294118   \n",
      "\n",
      "   var7(t-1)  var8(t-1)  var9(t-1)  var5(t)   var6(t)   var7(t)   var8(t)  \\\n",
      "1   0.131148   0.545454   0.333333      1.0  0.279412  0.114754  0.527273   \n",
      "2   0.114754   0.527273   0.333333      1.0  0.279412  0.131148  0.509090   \n",
      "3   0.131148   0.509090   0.333333      1.0  0.279412  0.081967  0.509090   \n",
      "4   0.081967   0.509090   0.333333      1.0  0.294118  0.114754  0.490910   \n",
      "5   0.114754   0.490910   0.333333      1.0  0.308824  0.147541  0.472727   \n",
      "\n",
      "    var9(t)  var10(t)  var11(t)  var12(t)  \n",
      "1  0.333333  0.007639       0.0       0.0  \n",
      "2  0.333333  0.010698       0.0       0.0  \n",
      "3  0.333333  0.016047       0.0       0.0  \n",
      "4  0.333333  0.021396       0.0       0.0  \n",
      "5  0.333333  0.026745       0.0       0.0  \n"
     ]
    }
   ],
   "source": [
    "# load dataset\n",
    "dataset = read_csv('PRSA_data_2010.1.1-2014.12.31.csv', index_col=0)\n",
    "values = dataset.values\n",
    "# integer encode direction\n",
    "encoder = LabelEncoder()\n",
    "values[:, 4] = encoder.fit_transform(values[:, 4])\n",
    "encoder2 = LabelEncoder()\n",
    "values[:,8] = encoder2.fit_transform(values[:, 8])\n",
    "# ensure all data is float\n",
    "values = values.astype('float32')\n",
    "# normalize features\n",
    "scaler = MinMaxScaler(feature_range=(0, 1))\n",
    "scaled = scaler.fit_transform(values)\n",
    "# frame as supervised learning\n",
    "reframed = series_to_supervised(scaled, 1, 1)\n",
    "# drop columns we don't want to predict\n",
    "reframed.drop(reframed.columns[[9, 10, 11, 12, 13, 14, 15]], axis=1, inplace=True)\n",
    "print(reframed.head())"
   ]
  },
  {
   "cell_type": "code",
   "execution_count": 6,
   "metadata": {},
   "outputs": [
    {
     "name": "stdout",
     "output_type": "stream",
     "text": [
      "(8760, 1, 16) (8760,) (35063, 1, 16) (35063,)\n"
     ]
    }
   ],
   "source": [
    "# split into train and test sets\n",
    "values = reframed.values\n",
    "n_train_hours = 365 * 24\n",
    "train = values[:n_train_hours, :]\n",
    "test = values[n_train_hours:, :]\n",
    "# split into input and outputs\n",
    "train_X, train_y = train[:, :-1], train[:, -1]\n",
    "test_X, test_y = test[:, :-1], test[:, -1]\n",
    "# reshape input to be 3D [samples, timesteps, features]\n",
    "train_X = train_X.reshape((train_X.shape[0], 1, train_X.shape[1]))\n",
    "test_X = test_X.reshape((test_X.shape[0], 1, test_X.shape[1]))\n",
    "print(train_X.shape, train_y.shape, test_X.shape, test_y.shape)"
   ]
  },
  {
   "cell_type": "code",
   "execution_count": 7,
   "metadata": {},
   "outputs": [],
   "source": [
    "# design network\n",
    "model = Sequential()\n",
    "model.add(LSTM(50, input_shape=(train_X.shape[1], train_X.shape[2])))\n",
    "model.add(Dense(1))\n",
    "model.compile(loss='mae', optimizer='adam')"
   ]
  },
  {
   "cell_type": "code",
   "execution_count": 8,
   "metadata": {
    "collapsed": true,
    "jupyter": {
     "outputs_hidden": true
    }
   },
   "outputs": [
    {
     "name": "stdout",
     "output_type": "stream",
     "text": [
      "Epoch 1/50\n",
      "122/122 - 5s - loss: 0.0143 - val_loss: 0.0130\n",
      "Epoch 2/50\n",
      "122/122 - 1s - loss: 0.0137 - val_loss: 0.0184\n",
      "Epoch 3/50\n",
      "122/122 - 1s - loss: 0.0137 - val_loss: 0.0130\n",
      "Epoch 4/50\n",
      "122/122 - 1s - loss: 0.0111 - val_loss: 0.0106\n",
      "Epoch 5/50\n",
      "122/122 - 1s - loss: 0.0122 - val_loss: 0.0221\n",
      "Epoch 6/50\n",
      "122/122 - 1s - loss: 0.0127 - val_loss: 0.0207\n",
      "Epoch 7/50\n",
      "122/122 - 1s - loss: 0.0106 - val_loss: 0.0217\n",
      "Epoch 8/50\n",
      "122/122 - 1s - loss: 0.0119 - val_loss: 0.0196\n",
      "Epoch 9/50\n",
      "122/122 - 1s - loss: 0.0104 - val_loss: 0.0211\n",
      "Epoch 10/50\n",
      "122/122 - 1s - loss: 0.0100 - val_loss: 0.0198\n",
      "Epoch 11/50\n",
      "122/122 - 1s - loss: 0.0096 - val_loss: 0.0235\n",
      "Epoch 12/50\n",
      "122/122 - 1s - loss: 0.0112 - val_loss: 0.0243\n",
      "Epoch 13/50\n",
      "122/122 - 1s - loss: 0.0117 - val_loss: 0.0222\n",
      "Epoch 14/50\n",
      "122/122 - 1s - loss: 0.0112 - val_loss: 0.0210\n",
      "Epoch 15/50\n",
      "122/122 - 1s - loss: 0.0098 - val_loss: 0.0222\n",
      "Epoch 16/50\n",
      "122/122 - 1s - loss: 0.0089 - val_loss: 0.0130\n",
      "Epoch 17/50\n",
      "122/122 - 1s - loss: 0.0110 - val_loss: 0.0202\n",
      "Epoch 18/50\n",
      "122/122 - 1s - loss: 0.0111 - val_loss: 0.0174\n",
      "Epoch 19/50\n",
      "122/122 - 1s - loss: 0.0101 - val_loss: 0.0214\n",
      "Epoch 20/50\n",
      "122/122 - 1s - loss: 0.0097 - val_loss: 0.0149\n",
      "Epoch 21/50\n",
      "122/122 - 1s - loss: 0.0090 - val_loss: 0.0133\n",
      "Epoch 22/50\n",
      "122/122 - 1s - loss: 0.0097 - val_loss: 0.0209\n",
      "Epoch 23/50\n",
      "122/122 - 1s - loss: 0.0093 - val_loss: 0.0125\n",
      "Epoch 24/50\n",
      "122/122 - 1s - loss: 0.0101 - val_loss: 0.0147\n",
      "Epoch 25/50\n",
      "122/122 - 1s - loss: 0.0100 - val_loss: 0.0221\n",
      "Epoch 26/50\n",
      "122/122 - 1s - loss: 0.0105 - val_loss: 0.0244\n",
      "Epoch 27/50\n",
      "122/122 - 1s - loss: 0.0104 - val_loss: 0.0254\n",
      "Epoch 28/50\n",
      "122/122 - 1s - loss: 0.0101 - val_loss: 0.0125\n",
      "Epoch 29/50\n",
      "122/122 - 1s - loss: 0.0094 - val_loss: 0.0144\n",
      "Epoch 30/50\n",
      "122/122 - 1s - loss: 0.0098 - val_loss: 0.0205\n",
      "Epoch 31/50\n",
      "122/122 - 1s - loss: 0.0095 - val_loss: 0.0194\n",
      "Epoch 32/50\n",
      "122/122 - 1s - loss: 0.0088 - val_loss: 0.0190\n",
      "Epoch 33/50\n",
      "122/122 - 1s - loss: 0.0101 - val_loss: 0.0179\n",
      "Epoch 34/50\n",
      "122/122 - 1s - loss: 0.0099 - val_loss: 0.0148\n",
      "Epoch 35/50\n",
      "122/122 - 1s - loss: 0.0096 - val_loss: 0.0122\n",
      "Epoch 36/50\n",
      "122/122 - 1s - loss: 0.0100 - val_loss: 0.0100\n",
      "Epoch 37/50\n",
      "122/122 - 1s - loss: 0.0099 - val_loss: 0.0127\n",
      "Epoch 38/50\n",
      "122/122 - 1s - loss: 0.0084 - val_loss: 0.0182\n",
      "Epoch 39/50\n",
      "122/122 - 1s - loss: 0.0094 - val_loss: 0.0150\n",
      "Epoch 40/50\n",
      "122/122 - 1s - loss: 0.0085 - val_loss: 0.0173\n",
      "Epoch 41/50\n",
      "122/122 - 1s - loss: 0.0092 - val_loss: 0.0146\n",
      "Epoch 42/50\n",
      "122/122 - 1s - loss: 0.0090 - val_loss: 0.0157\n",
      "Epoch 43/50\n",
      "122/122 - 1s - loss: 0.0083 - val_loss: 0.0154\n",
      "Epoch 44/50\n",
      "122/122 - 1s - loss: 0.0090 - val_loss: 0.0129\n",
      "Epoch 45/50\n",
      "122/122 - 1s - loss: 0.0086 - val_loss: 0.0116\n",
      "Epoch 46/50\n",
      "122/122 - 1s - loss: 0.0082 - val_loss: 0.0143\n",
      "Epoch 47/50\n",
      "122/122 - 1s - loss: 0.0085 - val_loss: 0.0148\n",
      "Epoch 48/50\n",
      "122/122 - 1s - loss: 0.0089 - val_loss: 0.0181\n",
      "Epoch 49/50\n",
      "122/122 - 1s - loss: 0.0089 - val_loss: 0.0185\n",
      "Epoch 50/50\n",
      "122/122 - 1s - loss: 0.0093 - val_loss: 0.0192\n"
     ]
    },
    {
     "data": {
      "image/png": "[encoded data removed]",
      "text/plain": [
       "<Figure size 432x288 with 1 Axes>"
      ]
     },
     "metadata": {
      "needs_background": "light"
     },
     "output_type": "display_data"
    }
   ],
   "source": [
    "# fit network\n",
    "history = model.fit(train_X, train_y, epochs=50, batch_size=72, validation_data=(test_X, test_y), verbose=2,\n",
    "                    shuffle=False)\n",
    "# plot history\n",
    "pyplot.plot(history.history['loss'], label='train')\n",
    "pyplot.plot(history.history['val_loss'], label='test')\n",
    "pyplot.legend()\n",
    "pyplot.show()"
   ]
  },
  {
   "cell_type": "code",
   "execution_count": 9,
   "metadata": {},
   "outputs": [
    {
     "ename": "ValueError",
     "evalue": "operands could not be broadcast together with shapes (35063,16) (12,) (35063,16) ",
     "output_type": "error",
     "traceback": [
      "\u001b[1;31m---------------------------------------------------------------------------\u001b[0m",
      "\u001b[1;31mValueError\u001b[0m                                Traceback (most recent call last)",
      "\u001b[1;32m<ipython-input-9-fb096917f8dc>\u001b[0m in \u001b[0;36m<module>\u001b[1;34m\u001b[0m\n\u001b[0;32m      4\u001b[0m \u001b[1;31m# invert scaling for forecast\u001b[0m\u001b[1;33m\u001b[0m\u001b[1;33m\u001b[0m\u001b[1;33m\u001b[0m\u001b[0m\n\u001b[0;32m      5\u001b[0m \u001b[0minv_yhat\u001b[0m \u001b[1;33m=\u001b[0m \u001b[0mconcatenate\u001b[0m\u001b[1;33m(\u001b[0m\u001b[1;33m(\u001b[0m\u001b[0myhat\u001b[0m\u001b[1;33m,\u001b[0m \u001b[0mtest_X\u001b[0m\u001b[1;33m[\u001b[0m\u001b[1;33m:\u001b[0m\u001b[1;33m,\u001b[0m \u001b[1;36m1\u001b[0m\u001b[1;33m:\u001b[0m\u001b[1;33m]\u001b[0m\u001b[1;33m)\u001b[0m\u001b[1;33m,\u001b[0m \u001b[0maxis\u001b[0m\u001b[1;33m=\u001b[0m\u001b[1;36m1\u001b[0m\u001b[1;33m)\u001b[0m\u001b[1;33m\u001b[0m\u001b[1;33m\u001b[0m\u001b[0m\n\u001b[1;32m----> 6\u001b[1;33m \u001b[0minv_yhat\u001b[0m \u001b[1;33m=\u001b[0m \u001b[0mscaler\u001b[0m\u001b[1;33m.\u001b[0m\u001b[0minverse_transform\u001b[0m\u001b[1;33m(\u001b[0m\u001b[0minv_yhat\u001b[0m\u001b[1;33m)\u001b[0m\u001b[1;33m\u001b[0m\u001b[1;33m\u001b[0m\u001b[0m\n\u001b[0m\u001b[0;32m      7\u001b[0m \u001b[0minv_yhat\u001b[0m \u001b[1;33m=\u001b[0m \u001b[0minv_yhat\u001b[0m\u001b[1;33m[\u001b[0m\u001b[1;33m:\u001b[0m\u001b[1;33m,\u001b[0m \u001b[1;36m0\u001b[0m\u001b[1;33m]\u001b[0m\u001b[1;33m\u001b[0m\u001b[1;33m\u001b[0m\u001b[0m\n\u001b[0;32m      8\u001b[0m \u001b[1;31m# invert scaling for actual\u001b[0m\u001b[1;33m\u001b[0m\u001b[1;33m\u001b[0m\u001b[1;33m\u001b[0m\u001b[0m\n",
      "\u001b[1;32m~\\.conda\\envs\\tf_env\\lib\\site-packages\\sklearn\\preprocessing\\_data.py\u001b[0m in \u001b[0;36minverse_transform\u001b[1;34m(self, X)\u001b[0m\n\u001b[0;32m    459\u001b[0m                         force_all_finite=\"allow-nan\")\n\u001b[0;32m    460\u001b[0m \u001b[1;33m\u001b[0m\u001b[0m\n\u001b[1;32m--> 461\u001b[1;33m         \u001b[0mX\u001b[0m \u001b[1;33m-=\u001b[0m \u001b[0mself\u001b[0m\u001b[1;33m.\u001b[0m\u001b[0mmin_\u001b[0m\u001b[1;33m\u001b[0m\u001b[1;33m\u001b[0m\u001b[0m\n\u001b[0m\u001b[0;32m    462\u001b[0m         \u001b[0mX\u001b[0m \u001b[1;33m/=\u001b[0m \u001b[0mself\u001b[0m\u001b[1;33m.\u001b[0m\u001b[0mscale_\u001b[0m\u001b[1;33m\u001b[0m\u001b[1;33m\u001b[0m\u001b[0m\n\u001b[0;32m    463\u001b[0m         \u001b[1;32mreturn\u001b[0m \u001b[0mX\u001b[0m\u001b[1;33m\u001b[0m\u001b[1;33m\u001b[0m\u001b[0m\n",
      "\u001b[1;31mValueError\u001b[0m: operands could not be broadcast together with shapes (35063,16) (12,) (35063,16) "
     ]
    }
   ],
   "source": [
    "\n",
    "\n",
    "# make a prediction\n",
    "yhat = model.predict(test_X)\n",
    "test_X = test_X.reshape((test_X.shape[0], test_X.shape[2]))\n",
    "# invert scaling for forecast\n",
    "inv_yhat = concatenate((yhat, test_X[:, 1:]), axis=1)\n",
    "inv_yhat = scaler.inverse_transform(inv_yhat)\n",
    "inv_yhat = inv_yhat[:, 0]\n",
    "# invert scaling for actual\n",
    "test_y = test_y.reshape((len(test_y), 1))\n",
    "inv_y = concatenate((test_y, test_X[:, 1:]), axis=1)\n",
    "inv_y = scaler.inverse_transform(inv_y)\n",
    "inv_y = inv_y[:, 0]\n",
    "# calculate RMSE\n",
    "rmse = sqrt(mean_squared_error(inv_y, inv_yhat))\n",
    "print('Test RMSE: %.3f' % rmse)"
   ]
  },
  {
   "cell_type": "code",
   "execution_count": 30,
   "metadata": {},
   "outputs": [
    {
     "data": {
      "text/plain": [
       "array([[0.25      , 0.        , 0.        , ..., 0.33333334, 0.97938997,\n",
       "        0.        ],\n",
       "       [0.25      , 0.        , 0.        , ..., 0.33333334, 0.98626   ,\n",
       "        0.        ],\n",
       "       [0.25      , 0.        , 0.        , ..., 0.33333334, 0.9931301 ,\n",
       "        0.        ],\n",
       "       ...,\n",
       "       [1.        , 1.        , 1.0000001 , ..., 0.33333334, 0.41399646,\n",
       "        0.        ],\n",
       "       [1.        , 1.        , 1.0000001 , ..., 0.33333334, 0.4208665 ,\n",
       "        0.        ],\n",
       "       [1.        , 1.        , 1.0000001 , ..., 0.33333334, 0.42621556,\n",
       "        0.        ]], dtype=float32)"
      ]
     },
     "execution_count": 30,
     "metadata": {},
     "output_type": "execute_result"
    }
   ],
   "source": [
    "test_X"
   ]
  },
  {
   "cell_type": "code",
   "execution_count": 28,
   "metadata": {},
   "outputs": [
    {
     "data": {
      "text/plain": [
       "(35063, 1)"
      ]
     },
     "execution_count": 28,
     "metadata": {},
     "output_type": "execute_result"
    }
   ],
   "source": [
    "yhat.shape"
   ]
  },
  {
   "cell_type": "code",
   "execution_count": 20,
   "metadata": {},
   "outputs": [
    {
     "data": {
      "text/plain": [
       "(43823, 17)"
      ]
     },
     "execution_count": 20,
     "metadata": {},
     "output_type": "execute_result"
    }
   ],
   "source": [
    "values.shape"
   ]
  },
  {
   "cell_type": "code",
   "execution_count": 22,
   "metadata": {},
   "outputs": [
    {
     "data": {
      "text/plain": [
       "(43824, 12)"
      ]
     },
     "execution_count": 22,
     "metadata": {},
     "output_type": "execute_result"
    }
   ],
   "source": [
    "scaled.shape"
   ]
  },
  {
   "cell_type": "code",
   "execution_count": 23,
   "metadata": {},
   "outputs": [],
   "source": [
    "inv_scaled = scaler.inverse_transform(scaled)"
   ]
  },
  {
   "cell_type": "code",
   "execution_count": 25,
   "metadata": {},
   "outputs": [
    {
     "data": {
      "text/plain": [
       "(43824, 12)"
      ]
     },
     "execution_count": 25,
     "metadata": {},
     "output_type": "execute_result"
    }
   ],
   "source": [
    "inv_scaled.shape"
   ]
  },
  {
   "cell_type": "code",
   "execution_count": 18,
   "metadata": {},
   "outputs": [
    {
     "data": {
      "text/plain": [
       "(35063, 1)"
      ]
     },
     "execution_count": 18,
     "metadata": {},
     "output_type": "execute_result"
    }
   ],
   "source": [
    "yhat.shape"
   ]
  },
  {
   "cell_type": "code",
   "execution_count": 17,
   "metadata": {},
   "outputs": [
    {
     "data": {
      "text/plain": [
       "(35063, 16)"
      ]
     },
     "execution_count": 17,
     "metadata": {},
     "output_type": "execute_result"
    }
   ],
   "source": [
    "test_X.shape"
   ]
  },
  {
   "cell_type": "code",
   "execution_count": 19,
   "metadata": {},
   "outputs": [
    {
     "data": {
      "text/plain": [
       "MinMaxScaler()"
      ]
     },
     "execution_count": 19,
     "metadata": {},
     "output_type": "execute_result"
    }
   ],
   "source": [
    "scaler"
   ]
  },
  {
   "cell_type": "code",
   "execution_count": 27,
   "metadata": {},
   "outputs": [
    {
     "data": {
      "text/plain": [
       "(35063, 16)"
      ]
     },
     "execution_count": 27,
     "metadata": {},
     "output_type": "execute_result"
    }
   ],
   "source": [
    "inv_yhat.shape"
   ]
  },
  {
   "cell_type": "code",
   "execution_count": null,
   "metadata": {},
   "outputs": [],
   "source": []
  }
 ],
 "metadata": {
  "kernelspec": {
   "display_name": "tf_env",
   "language": "python",
   "name": "tf_env"
  },
  "language_info": {
   "codemirror_mode": {
    "name": "ipython",
    "version": 3
   },
   "file_extension": ".py",
   "mimetype": "text/x-python",
   "name": "python",
   "nbconvert_exporter": "python",
   "pygments_lexer": "ipython3",
   "version": "3.8.5"
  }
 },
 "nbformat": 4,
 "nbformat_minor": 4
}
