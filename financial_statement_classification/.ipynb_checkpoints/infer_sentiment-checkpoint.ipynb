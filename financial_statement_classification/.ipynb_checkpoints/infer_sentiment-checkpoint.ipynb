{
 "cells": [
  {
   "cell_type": "code",
   "execution_count": 24,
   "metadata": {},
   "outputs": [],
   "source": [
    "import tensorflow as tf\n",
    "from tensorflow import keras\n",
    "import pickle\n",
    "from sentence_transformers import SentenceTransformer\n",
    "import numpy as np\n",
    "import nltk"
   ]
  },
  {
   "cell_type": "code",
   "execution_count": null,
   "metadata": {},
   "outputs": [],
   "source": [
    "# Assume that you have 12GB of GPU memory and want to allocate ~4GB:\n",
    "#gpu_options = tf.GPUOptions(per_process_gpu_memory_fraction=0.333)\n",
    "#sess = tf.Session(config=tf.ConfigProto(gpu_options=gpu_options))\n",
    "gpu_options = tf.compat.v1.GPUOptions(per_process_gpu_memory_fraction = 0.33)\n",
    "sess = tf.Session(config=tf.ConfigProto(gpu_options=gpu_options))"
   ]
  },
  {
   "cell_type": "code",
   "execution_count": 2,
   "metadata": {},
   "outputs": [],
   "source": [
    "embedding_model = SentenceTransformer('paraphrase-distilroberta-base-v1')"
   ]
  },
  {
   "cell_type": "code",
   "execution_count": 15,
   "metadata": {},
   "outputs": [],
   "source": [
    "with open('label_encoder.pickle', 'rb') as handle:\n",
    "    label_encoder = pickle.load(handle)"
   ]
  },
  {
   "cell_type": "code",
   "execution_count": null,
   "metadata": {},
   "outputs": [],
   "source": [
    "classifier = keras.models.load_model('classifier_model.bin')"
   ]
  },
  {
   "cell_type": "code",
   "execution_count": 31,
   "metadata": {},
   "outputs": [
    {
     "data": {
      "text/plain": [
       "array([[9.9999750e-01, 2.5452505e-06, 2.6060081e-09],\n",
       "       [1.0000000e+00, 2.5465821e-10, 1.6523046e-14]], dtype=float32)"
      ]
     },
     "execution_count": 31,
     "metadata": {},
     "output_type": "execute_result"
    }
   ],
   "source": [
    "#Test\n",
    "classifier.predict(embedding)"
   ]
  },
  {
   "cell_type": "code",
   "execution_count": 44,
   "metadata": {},
   "outputs": [],
   "source": [
    "def get_sentiment(s):\n",
    "    sentences = nltk.tokenize.sent_tokenize(s)\n",
    "    embedding = embedding_model.encode(sentences)\n",
    "    indexs = np.argmax(classifier.predict(embedding), axis=1)\n",
    "    sentiments = label_encoder.inverse_transform(indexs)\n",
    "    for sentence , sentiment in zip(sentences, sentiments):\n",
    "        print('')\n",
    "        print(sentence,'[', sentiment, ']')\n"
   ]
  },
  {
   "cell_type": "code",
   "execution_count": 45,
   "metadata": {},
   "outputs": [],
   "source": [
    "s = '''\n",
    "Finally, we've been able to return to our pre-pandemic routine and conduct this call together from our Atlanta office. We hope all of you and your families are doing well and staying safe and healthy. We would like to dedicate this call to our talented, courageous, committed and determined global teams located in the US, UK, Asia, and in the India Development Center, who have helped us navigate through an extraordinary fiscal 2021, a lot better than we were imagining last April. Among other things, all of them have helped us keep our focus on product innovation and world-class customer service, fighting through all the tough circumstances.\n",
    "While the US and UK seemed well on their way back to normalcy, many countries in Asia continue to be seriously challenged by the virus, especially India. The last couple of months have been particularly difficult for our 950 India Development Center personnel. Several of them have lost family members and have faced extremely difficult family situations. About 30 of them are themselves currently recovering after testing COVID positive. Through all of this, they have worked incredibly hard to keep our pace of product innovation moving forward, working together with our experienced, talented and hard working US-based R&D personnel. The productivity and quality of execution levels of our worldwide workforce has been inspirational for all of us.\n",
    "We continue to treat the good health, happiness and well-being of all our Agilysys' teammates, and customer and partner personnel as our top priority. While most of our employees still remain in a work-from-home mode, which has worked well for us during the past 14 months, we are beginning to slowly trickle back to working from our various office locations as the number of fully vaccinated personnel continues to increase.\n",
    "January and the first three weeks of February presented continuing difficult challenges and uncertainties for the hospitality industry, resulting in a slight miss of our original revenue expectations for the quarter. Customers remained uncertain about the short-term future during the first couple of months of calendar 2021.\n",
    "Fiscal 2021 Q4 January through March quarter revenue was slightly less than flat sequentially at $36.3 million, and represented an 8% year-over-year decline, compared to Q4 of fiscal 2020. Product and services revenue decreased sequentially by approximately 3% compared to Q3, and we're at 78% and 76% of Q4 fiscal 2020 levels, respectively. Recurring revenue grew slightly over Q3 and by 3%, compared to the comparable prior year Q4 to a record $22.9 million.\n",
    "Within recurring revenue, subscription revenue grew by 11.6% compared to Q4 of last year, and comprised 42% of total recurring revenues. The consistent growth in subscription-based recurring revenue, all through the pandemic affected year, is a big testament to our pace of product innovation and the availability of an increasing number of software modules, which are cloud native compared to a year or two ago.\n",
    "Quite remarkably, ahead of even our own best expectations, fiscal 2021 was a record sales year with respect to subscription sales, driven particularly by the POS and PMS add-on modules, many of which were created during the past couple of years. However, many of these SaaS projects are yet to be implemented, causing a temporary relatively slower growth phase in subscription recurring revenue.\n",
    "For the sake of clarity, to reiterate what we have mentioned during previous earnings calls, please note that we used the term sales and revenue as two different things. Revenue refers to recognized revenue per GAAP and other accounting rules, and happen with respect to recurring revenue only after a software module is installed at a customer site and is ready for production use. On the other hand, sales, which we typically measure in annual contract value terms, refers to sale agreements closed and signed by customers. Such sales get converted to revenue over time depending on when licensed products are shipped, the timing of services projects execution and start of software use in production environments.\n",
    "Before we go into some extra color on the increased sales momentum, we have been seeing since the last week of February, a few other details on revenue and gross profit. Despite Q4 revenue levels ending up slightly below our expectations, Q4 GAAP gross profit increased by $3.8 million, or 19% compared to Q4 of fiscal 2020. Consistent with the rest of the fiscal year, $3.1 million of previously capitalized software amortization costs present in fiscal 2020 did not impact the current quarter, resulting in a comparative increase of approximately $700,000 in gross profit on $3.3 million less revenue.\n",
    "The growth of gross profit percentage is attributable to the continued growth of recurring revenue as a proportion of total revenue. Recurring revenue, especially subscription-based recurring revenue, held up well during fiscal 2021, while product and services revenue suffered declines. Fiscal 2021, the period from April calendar 2020 to March 2021, was obviously a very challenging year for the hospitality industry. And the fact fiscal 2021 was still a record year for recurring revenue speaks to the mission-critical nature of our products, the continued levels of product innovation, where customers are increasingly looking to us to provide solutions, which can meet and exceed the increasing technology and ease of use demands of their guests, and the trust customers have placed in us to help them prepare for a safe and efficient reopening.\n",
    "Q4 profitability was along expected lines. Adjusted EBITDA was $7.1 million, slightly lower than Q3 fiscal 2021, and 98% higher than Q4 of last fiscal year. We remain focused on maintaining and carrying forward the internal operational efficiencies we were able to achieve last year. We've worked hard to ensure our focus areas do not get scattered across too many lofty objectives. We've become a lot better at doing more with less, while also never compromising on our world-class customer service goals.\n",
    "Now turning to recent sales success levels. Sales measured in annual contract value of customer purchase agreements won, signed and closed during the quarter grew to just over 75% of sales levels during the comparable Q4 fiscal 2020. This was an improvement compared to the entire fiscal year, where sales were at approximately two-thirds of the level seen in fiscal 2020. Sales activity and demos continued to be at high levels. We have seen a major pickup in sales closing success during the past 12 weeks, beginning in the last week of February, making this one of our best periods of selling success. In annual contract value terms, global sales during these 12 weeks increased to about 85% of the best 12-week period during the past five years.\n",
    "Customers are clearly beginning to make long-pending decisions. And the product improvements we have continued to make through the past years are placing us in an excellent competitive position to win a high majority of deals we are currently competing for. An additional contributing factors for our optimism is the increasing average size of sales deals we are currently pulling through. What would have been only a basic InfoGenesis POS sale win a couple of years ago, now often involves a considerably greater number of products, including additional POS software modules like OnDemand and Quick Pay, along with a core PMS product like Stay PMS, plus additional PMS software modules like the Booking Engine, Spa, Golf, Sales & Catering, Express Mobile and Service to name a few.\n",
    "That selling success momentum currently concentrated mainly in the gaming and resort segments of the US domestic market, and the remaining backlog of already sold software, which have not yet been implemented, other products sold but not yet shipped, and services agreement signed but projects not yet started, all that together gives us solid confidence with respect to how we think fiscal 2022 will shape up.\n",
    "We expect fiscal 2022 annual revenue to work out to be between $160 million and $170 million -- that is 1-6-0 and 1-7-0 -- between $160 million and $170 million, making it a record revenue year. We expect the pent-up demand for superior guest-centric hospitality technology solutions to grow throughout this fiscal year, making the second half of the fiscal year, better than the first. We expect the momentum to gradually increase during the year, when more of the sales segments including EMEA, APAC and managed foodservice providers start seeing business improvements to join the current major progress we are seeing in the US domestic gaming and resort segments.\n",
    "We expect adjusted EBITDA during fiscal 2022 to be slightly better than 15%, 1-5, better than 15% of revenue as we continue to invest in growth, especially in sales and marketing. Fiscal 2022 will be a higher cost year compared to fiscal 2021 in several areas, including increased incentive compensation, travel, higher fiscal 2021 ending run rates in areas like R&D as we were hiring additional resources throughout the past year, increased need for implementation services and customer support personnel, and restoration of a few previously suspended employee benefit items like 401(k) match. Even with such expected cost increases, the additional operational efficiencies we've achieved in the business during the past 14 months, should enable us to maintain adjusted EBITDA profitability levels at slightly north of the 15% of revenue mark. With this, we are switching back to our pre-pandemic normal annual guidance cadence, and we'll stop quarterly guidance we were providing during fiscal 2021.\n",
    "Now with respect to R&D and product innovation, we are now close to reaching the peak of our R&D resource strength of 1,000 personnel we have been working toward during the past few years. We expect R&D resource strength to remain at that level for the foreseeable future. Our product modernization efforts are now complete in several areas, and is close to completion in others, and we are now well positioned to increase the pace of product innovation with the enormous R&D strength already built up and the modern technology base established across all our product offerings.\n",
    "As sales and revenue growth resumes and grows during this fiscal year, we will be focused on growing our sales and marketing strengths. Since our last call, we've added a couple of personnel to our quota carrying sales teams and are close to finalizing offers for a couple more. We are also in the process of relaunching our marketing messaging. More than all that, we like the increased enthusiasm among our current sales force as they represent our modernized products and new modules with renewed pride and self-confidence. Our sales win loss ratio is an impressive high levels, currently. Now, it is a matter of increasing our participation level in the various hospitality technology selection processes out there.\n",
    "Our participation in significant RFPs, especially with respect to the property management system product sets has increased significantly during recent months. We expect such RFP participation invitations to increase gradually over the next few quarters as the word spreads through our increased marketing efforts and word of mouth within the industry, changing our reputation from being a legacy product providers to one of world-class cloud native technology solutions, and the fastest and most broad-based product innovation pace in the industry. That change in reputation will not happen overnight, but will have a flywheel exponential effect once it takes hold. We have now done the hard work to get all the basics right. And now, we are moving to the next phase of this evolution.\n",
    "Our recent monthly webinars on product progress across POS, PMS, inventory procurement and document management have been well attended by customers with a good level of follow-up activity. Customer intrigue and interest continue to increase, especially regarding Stay PMS, the InfoGenesis POS 12UX version, which now supports devices across all operating systems, iOS, Android, and Windows, the remote ordering application OnDemand, Quick Pay for easier contactless payment options at restaurants, Golf, Spa, Sales and Catering for managing groups of guests in conferences and conventions, Booking Engine, which now enables booking of room -- rooms, spa appointments, golf tea times and restaurant table reservations, all from one direct channel website with a one card shopping experience, a comprehensive promotions and loyalty management module engage that a couple of customers have already made sizable investments to license, the modernized DataMagine document management solution, the modernized Eatec and Stratton Warren inventory procurement solutions, the modernized LMS, PMS, which continues to do well supporting some of the biggest hotels in the world, the modernized Visual One PMS solution, which is scheduled to be released end of July, that we are already conducting demos on now, the new seat solution, which enables reservations across all resort amenities not just stable reservations, contactless, mobile and kiosk-based check-in check-out modules, which include digital key options, the service module to optimize management of all areas of past management within a hotel or resort, including two-way guest communication. I could just keep going on for a while describing these, but I will stop here. All these products have been built on an open API architecture, which makes them easy to connect to both within our own comprehensive ecosystem, as well as an external ecosystems customers choose to put together themselves.\n",
    "During the January through March quarter, we signed sales agreements which added 21 new customers to our family, 41 new properties which did not have any of our products before, but the parent company was already our customer, and there were 81 instances of selling at least one additional product to sites, which already had one or more of our products. While the number of new sites added this quarter was consistent with the rest of fiscal 2021, the number of new customers and new product agreements signed during the quarter increased significantly from Q3.\n",
    "Included among the sales wins highlights during the quarter were the following listed in no particular order. One, located at the edge of a forest and nearby Seattle, Hotel America Snoqualmie, selected Agilysys Stay PMS and rGuest Book to help provide guests a direct booking experience and improve operational efficiencies. Two, 196 Bishopsgate, a luxury apartment-style hotel located in the heart of London's financial district, selected Agilysys Stay PMS and Express Mobile check-in check-out to manage their property. Three, Town Hall Hotel in London's East end elected to install InfoGenesis POS, Stay PMS, Agilysys Sales & Catering, and Express Mobile check-in check-out to provide their guests a superior all-round experience. Number four, Classic Hotels & Resorts, a premier boutique hotel company focused on providing luxury escapes with unique amenities in iconic locations, has chosen Stay PMS, rGuest Book and Agilysys Pay for five of their upscale locations, including two locations in Laguna Beach and their newest property of historic Route 66 in Arizona. Five, an iconic property at the base of the mountain in Vail Colorado, the Manor Vail, recently selected InfoGenesis, OnDemand and Pay to manage their point-of-sale and food and beverage related needs across their property. Six, located among the Redwoods on the Pacific Coast in Northern California and just south of Oregon, Lucky 7 Casino will be using Eatec and InfoGenesis to manage their inventory needs and handle transactions across their property. And seven, last and certainly not the least, as a final note on recent customer wins is MGM. You can pick up a public announcement on this which just came out yesterday by MGM. They have now implemented and are live with OnDemand for poolside ordering, which means pool goers at MGM Resorts' Las Vegas Strip properties can order their cocktail, beer or burger on a smartphone and have it delivered directly to their lawn chair or daybed at seven of their Vegas properties with six more properties to go live during the next few weeks.\n",
    "'''\n"
   ]
  },
  {
   "cell_type": "code",
   "execution_count": 46,
   "metadata": {},
   "outputs": [
    {
     "name": "stdout",
     "output_type": "stream",
     "text": [
      "\n",
      "Finally, we've been able to return to our pre-pandemic routine and conduct this call together from our Atlanta office. [ neutral ]\n",
      "We hope all of you and your families are doing well and staying safe and healthy. [ neutral ]\n",
      "We would like to dedicate this call to our talented, courageous, committed and determined global teams located in the US, UK, Asia, and in the India Development Center, who have helped us navigate through an extraordinary fiscal 2021, a lot better than we were imagining last April. [ positive ]\n",
      "Among other things, all of them have helped us keep our focus on product innovation and world-class customer service, fighting through all the tough circumstances. [ positive ]\n",
      "While the US and UK seemed well on their way back to normalcy, many countries in Asia continue to be seriously challenged by the virus, especially India. [ negative ]\n",
      "The last couple of months have been particularly difficult for our 950 India Development Center personnel. [ negative ]\n",
      "Several of them have lost family members and have faced extremely difficult family situations. [ negative ]\n",
      "About 30 of them are themselves currently recovering after testing COVID positive. [ neutral ]\n",
      "Through all of this, they have worked incredibly hard to keep our pace of product innovation moving forward, working together with our experienced, talented and hard working US-based R&D personnel. [ positive ]\n",
      "The productivity and quality of execution levels of our worldwide workforce has been inspirational for all of us. [ positive ]\n",
      "We continue to treat the good health, happiness and well-being of all our Agilysys' teammates, and customer and partner personnel as our top priority. [ neutral ]\n",
      "While most of our employees still remain in a work-from-home mode, which has worked well for us during the past 14 months, we are beginning to slowly trickle back to working from our various office locations as the number of fully vaccinated personnel continues to increase. [ neutral ]\n",
      "January and the first three weeks of February presented continuing difficult challenges and uncertainties for the hospitality industry, resulting in a slight miss of our original revenue expectations for the quarter. [ negative ]\n",
      "Customers remained uncertain about the short-term future during the first couple of months of calendar 2021. [ neutral ]\n",
      "Fiscal 2021 Q4 January through March quarter revenue was slightly less than flat sequentially at $36.3 million, and represented an 8% year-over-year decline, compared to Q4 of fiscal 2020. [ negative ]\n",
      "Product and services revenue decreased sequentially by approximately 3% compared to Q3, and we're at 78% and 76% of Q4 fiscal 2020 levels, respectively. [ negative ]\n",
      "Recurring revenue grew slightly over Q3 and by 3%, compared to the comparable prior year Q4 to a record $22.9 million. [ positive ]\n",
      "Within recurring revenue, subscription revenue grew by 11.6% compared to Q4 of last year, and comprised 42% of total recurring revenues. [ positive ]\n",
      "The consistent growth in subscription-based recurring revenue, all through the pandemic affected year, is a big testament to our pace of product innovation and the availability of an increasing number of software modules, which are cloud native compared to a year or two ago. [ positive ]\n",
      "Quite remarkably, ahead of even our own best expectations, fiscal 2021 was a record sales year with respect to subscription sales, driven particularly by the POS and PMS add-on modules, many of which were created during the past couple of years. [ positive ]\n",
      "However, many of these SaaS projects are yet to be implemented, causing a temporary relatively slower growth phase in subscription recurring revenue. [ negative ]\n",
      "For the sake of clarity, to reiterate what we have mentioned during previous earnings calls, please note that we used the term sales and revenue as two different things. [ neutral ]\n",
      "Revenue refers to recognized revenue per GAAP and other accounting rules, and happen with respect to recurring revenue only after a software module is installed at a customer site and is ready for production use. [ neutral ]\n",
      "On the other hand, sales, which we typically measure in annual contract value terms, refers to sale agreements closed and signed by customers. [ neutral ]\n",
      "Such sales get converted to revenue over time depending on when licensed products are shipped, the timing of services projects execution and start of software use in production environments. [ neutral ]\n",
      "Before we go into some extra color on the increased sales momentum, we have been seeing since the last week of February, a few other details on revenue and gross profit. [ positive ]\n",
      "Despite Q4 revenue levels ending up slightly below our expectations, Q4 GAAP gross profit increased by $3.8 million, or 19% compared to Q4 of fiscal 2020. [ positive ]\n",
      "Consistent with the rest of the fiscal year, $3.1 million of previously capitalized software amortization costs present in fiscal 2020 did not impact the current quarter, resulting in a comparative increase of approximately $700,000 in gross profit on $3.3 million less revenue. [ negative ]\n",
      "The growth of gross profit percentage is attributable to the continued growth of recurring revenue as a proportion of total revenue. [ positive ]\n",
      "Recurring revenue, especially subscription-based recurring revenue, held up well during fiscal 2021, while product and services revenue suffered declines. [ positive ]\n",
      "Fiscal 2021, the period from April calendar 2020 to March 2021, was obviously a very challenging year for the hospitality industry. [ negative ]\n",
      "And the fact fiscal 2021 was still a record year for recurring revenue speaks to the mission-critical nature of our products, the continued levels of product innovation, where customers are increasingly looking to us to provide solutions, which can meet and exceed the increasing technology and ease of use demands of their guests, and the trust customers have placed in us to help them prepare for a safe and efficient reopening. [ positive ]\n",
      "Q4 profitability was along expected lines. [ positive ]\n",
      "Adjusted EBITDA was $7.1 million, slightly lower than Q3 fiscal 2021, and 98% higher than Q4 of last fiscal year. [ negative ]\n",
      "We remain focused on maintaining and carrying forward the internal operational efficiencies we were able to achieve last year. [ positive ]\n",
      "We've worked hard to ensure our focus areas do not get scattered across too many lofty objectives. [ neutral ]\n",
      "We've become a lot better at doing more with less, while also never compromising on our world-class customer service goals. [ positive ]\n",
      "Now turning to recent sales success levels. [ positive ]\n",
      "Sales measured in annual contract value of customer purchase agreements won, signed and closed during the quarter grew to just over 75% of sales levels during the comparable Q4 fiscal 2020. [ positive ]\n",
      "This was an improvement compared to the entire fiscal year, where sales were at approximately two-thirds of the level seen in fiscal 2020. [ positive ]\n",
      "Sales activity and demos continued to be at high levels. [ positive ]\n",
      "We have seen a major pickup in sales closing success during the past 12 weeks, beginning in the last week of February, making this one of our best periods of selling success. [ positive ]\n",
      "In annual contract value terms, global sales during these 12 weeks increased to about 85% of the best 12-week period during the past five years. [ positive ]\n",
      "Customers are clearly beginning to make long-pending decisions. [ negative ]\n",
      "And the product improvements we have continued to make through the past years are placing us in an excellent competitive position to win a high majority of deals we are currently competing for. [ positive ]\n",
      "An additional contributing factors for our optimism is the increasing average size of sales deals we are currently pulling through. [ positive ]\n",
      "What would have been only a basic InfoGenesis POS sale win a couple of years ago, now often involves a considerably greater number of products, including additional POS software modules like OnDemand and Quick Pay, along with a core PMS product like Stay PMS, plus additional PMS software modules like the Booking Engine, Spa, Golf, Sales & Catering, Express Mobile and Service to name a few. [ neutral ]\n",
      "That selling success momentum currently concentrated mainly in the gaming and resort segments of the US domestic market, and the remaining backlog of already sold software, which have not yet been implemented, other products sold but not yet shipped, and services agreement signed but projects not yet started, all that together gives us solid confidence with respect to how we think fiscal 2022 will shape up. [ positive ]\n",
      "We expect fiscal 2022 annual revenue to work out to be between $160 million and $170 million -- that is 1-6-0 and 1-7-0 -- between $160 million and $170 million, making it a record revenue year. [ positive ]\n",
      "We expect the pent-up demand for superior guest-centric hospitality technology solutions to grow throughout this fiscal year, making the second half of the fiscal year, better than the first. [ positive ]\n",
      "We expect the momentum to gradually increase during the year, when more of the sales segments including EMEA, APAC and managed foodservice providers start seeing business improvements to join the current major progress we are seeing in the US domestic gaming and resort segments. [ positive ]\n",
      "We expect adjusted EBITDA during fiscal 2022 to be slightly better than 15%, 1-5, better than 15% of revenue as we continue to invest in growth, especially in sales and marketing. [ positive ]\n",
      "Fiscal 2022 will be a higher cost year compared to fiscal 2021 in several areas, including increased incentive compensation, travel, higher fiscal 2021 ending run rates in areas like R&D as we were hiring additional resources throughout the past year, increased need for implementation services and customer support personnel, and restoration of a few previously suspended employee benefit items like 401(k) match. [ positive ]\n",
      "Even with such expected cost increases, the additional operational efficiencies we've achieved in the business during the past 14 months, should enable us to maintain adjusted EBITDA profitability levels at slightly north of the 15% of revenue mark. [ positive ]\n",
      "With this, we are switching back to our pre-pandemic normal annual guidance cadence, and we'll stop quarterly guidance we were providing during fiscal 2021. [ neutral ]\n",
      "Now with respect to R&D and product innovation, we are now close to reaching the peak of our R&D resource strength of 1,000 personnel we have been working toward during the past few years. [ positive ]\n",
      "We expect R&D resource strength to remain at that level for the foreseeable future. [ positive ]\n",
      "Our product modernization efforts are now complete in several areas, and is close to completion in others, and we are now well positioned to increase the pace of product innovation with the enormous R&D strength already built up and the modern technology base established across all our product offerings. [ positive ]\n",
      "As sales and revenue growth resumes and grows during this fiscal year, we will be focused on growing our sales and marketing strengths. [ positive ]\n",
      "Since our last call, we've added a couple of personnel to our quota carrying sales teams and are close to finalizing offers for a couple more. [ neutral ]\n",
      "We are also in the process of relaunching our marketing messaging. [ neutral ]\n",
      "More than all that, we like the increased enthusiasm among our current sales force as they represent our modernized products and new modules with renewed pride and self-confidence. [ positive ]\n",
      "Our sales win loss ratio is an impressive high levels, currently. [ positive ]\n",
      "Now, it is a matter of increasing our participation level in the various hospitality technology selection processes out there. [ positive ]\n",
      "Our participation in significant RFPs, especially with respect to the property management system product sets has increased significantly during recent months. [ positive ]\n",
      "We expect such RFP participation invitations to increase gradually over the next few quarters as the word spreads through our increased marketing efforts and word of mouth within the industry, changing our reputation from being a legacy product providers to one of world-class cloud native technology solutions, and the fastest and most broad-based product innovation pace in the industry. [ positive ]\n",
      "That change in reputation will not happen overnight, but will have a flywheel exponential effect once it takes hold. [ neutral ]\n",
      "We have now done the hard work to get all the basics right. [ neutral ]\n",
      "And now, we are moving to the next phase of this evolution. [ neutral ]\n",
      "Our recent monthly webinars on product progress across POS, PMS, inventory procurement and document management have been well attended by customers with a good level of follow-up activity. [ neutral ]\n",
      "Customer intrigue and interest continue to increase, especially regarding Stay PMS, the InfoGenesis POS 12UX version, which now supports devices across all operating systems, iOS, Android, and Windows, the remote ordering application OnDemand, Quick Pay for easier contactless payment options at restaurants, Golf, Spa, Sales and Catering for managing groups of guests in conferences and conventions, Booking Engine, which now enables booking of room -- rooms, spa appointments, golf tea times and restaurant table reservations, all from one direct channel website with a one card shopping experience, a comprehensive promotions and loyalty management module engage that a couple of customers have already made sizable investments to license, the modernized DataMagine document management solution, the modernized Eatec and Stratton Warren inventory procurement solutions, the modernized LMS, PMS, which continues to do well supporting some of the biggest hotels in the world, the modernized Visual One PMS solution, which is scheduled to be released end of July, that we are already conducting demos on now, the new seat solution, which enables reservations across all resort amenities not just stable reservations, contactless, mobile and kiosk-based check-in check-out modules, which include digital key options, the service module to optimize management of all areas of past management within a hotel or resort, including two-way guest communication. [ positive ]\n",
      "I could just keep going on for a while describing these, but I will stop here. [ neutral ]\n",
      "All these products have been built on an open API architecture, which makes them easy to connect to both within our own comprehensive ecosystem, as well as an external ecosystems customers choose to put together themselves. [ neutral ]\n",
      "During the January through March quarter, we signed sales agreements which added 21 new customers to our family, 41 new properties which did not have any of our products before, but the parent company was already our customer, and there were 81 instances of selling at least one additional product to sites, which already had one or more of our products. [ positive ]\n",
      "While the number of new sites added this quarter was consistent with the rest of fiscal 2021, the number of new customers and new product agreements signed during the quarter increased significantly from Q3. [ positive ]\n",
      "Included among the sales wins highlights during the quarter were the following listed in no particular order. [ negative ]\n",
      "One, located at the edge of a forest and nearby Seattle, Hotel America Snoqualmie, selected Agilysys Stay PMS and rGuest Book to help provide guests a direct booking experience and improve operational efficiencies. [ positive ]\n",
      "Two, 196 Bishopsgate, a luxury apartment-style hotel located in the heart of London's financial district, selected Agilysys Stay PMS and Express Mobile check-in check-out to manage their property. [ neutral ]\n",
      "Three, Town Hall Hotel in London's East end elected to install InfoGenesis POS, Stay PMS, Agilysys Sales & Catering, and Express Mobile check-in check-out to provide their guests a superior all-round experience. [ positive ]\n",
      "Number four, Classic Hotels & Resorts, a premier boutique hotel company focused on providing luxury escapes with unique amenities in iconic locations, has chosen Stay PMS, rGuest Book and Agilysys Pay for five of their upscale locations, including two locations in Laguna Beach and their newest property of historic Route 66 in Arizona. [ neutral ]\n",
      "Five, an iconic property at the base of the mountain in Vail Colorado, the Manor Vail, recently selected InfoGenesis, OnDemand and Pay to manage their point-of-sale and food and beverage related needs across their property. [ neutral ]\n",
      "Six, located among the Redwoods on the Pacific Coast in Northern California and just south of Oregon, Lucky 7 Casino will be using Eatec and InfoGenesis to manage their inventory needs and handle transactions across their property. [ neutral ]\n",
      "And seven, last and certainly not the least, as a final note on recent customer wins is MGM. [ neutral ]\n",
      "You can pick up a public announcement on this which just came out yesterday by MGM. [ neutral ]\n",
      "They have now implemented and are live with OnDemand for poolside ordering, which means pool goers at MGM Resorts' Las Vegas Strip properties can order their cocktail, beer or burger on a smartphone and have it delivered directly to their lawn chair or daybed at seven of their Vegas properties with six more properties to go live during the next few weeks. [ neutral ]\n"
     ]
    }
   ],
   "source": [
    "get_sentiment(s)"
   ]
  },
  {
   "cell_type": "code",
   "execution_count": null,
   "metadata": {},
   "outputs": [],
   "source": []
  }
 ],
 "metadata": {
  "kernelspec": {
   "display_name": "tf_env",
   "language": "python",
   "name": "tf_env"
  },
  "language_info": {
   "codemirror_mode": {
    "name": "ipython",
    "version": 3
   },
   "file_extension": ".py",
   "mimetype": "text/x-python",
   "name": "python",
   "nbconvert_exporter": "python",
   "pygments_lexer": "ipython3",
   "version": "3.8.5"
  }
 },
 "nbformat": 4,
 "nbformat_minor": 4
}
