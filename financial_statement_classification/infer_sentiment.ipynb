{
 "cells": [
  {
   "cell_type": "code",
   "execution_count": 24,
   "metadata": {},
   "outputs": [],
   "source": [
    "import tensorflow as tf\n",
    "from tensorflow import keras\n",
    "import pickle\n",
    "from sentence_transformers import SentenceTransformer\n",
    "import numpy as np\n",
    "import nltk"
   ]
  },
  {
   "cell_type": "code",
   "execution_count": null,
   "metadata": {},
   "outputs": [],
   "source": [
    "# Assume that you have 12GB of GPU memory and want to allocate ~4GB:\n",
    "#gpu_options = tf.GPUOptions(per_process_gpu_memory_fraction=0.333)\n",
    "#sess = tf.Session(config=tf.ConfigProto(gpu_options=gpu_options))\n",
    "gpu_options = tf.compat.v1.GPUOptions(per_process_gpu_memory_fraction = 0.33)\n",
    "sess = tf.Session(config=tf.ConfigProto(gpu_options=gpu_options))"
   ]
  },
  {
   "cell_type": "code",
   "execution_count": 2,
   "metadata": {},
   "outputs": [],
   "source": [
    "embedding_model = SentenceTransformer('paraphrase-distilroberta-base-v1')"
   ]
  },
  {
   "cell_type": "code",
   "execution_count": 15,
   "metadata": {},
   "outputs": [],
   "source": [
    "with open('label_encoder.pickle', 'rb') as handle:\n",
    "    label_encoder = pickle.load(handle)"
   ]
  },
  {
   "cell_type": "code",
   "execution_count": null,
   "metadata": {},
   "outputs": [],
   "source": [
    "classifier = keras.models.load_model('classifier_model.bin')"
   ]
  },
  {
   "cell_type": "code",
   "execution_count": 31,
   "metadata": {},
   "outputs": [
    {
     "data": {
      "text/plain": [
       "array([[9.9999750e-01, 2.5452505e-06, 2.6060081e-09],\n",
       "       [1.0000000e+00, 2.5465821e-10, 1.6523046e-14]], dtype=float32)"
      ]
     },
     "execution_count": 31,
     "metadata": {},
     "output_type": "execute_result"
    }
   ],
   "source": [
    "#Test\n",
    "classifier.predict(embedding)"
   ]
  },
  {
   "cell_type": "code",
   "execution_count": 47,
   "metadata": {},
   "outputs": [],
   "source": [
    "def get_sentiment(s):\n",
    "    sentences = nltk.tokenize.sent_tokenize(s)\n",
    "    embedding = embedding_model.encode(sentences)\n",
    "    indexs = np.argmax(classifier.predict(embedding), axis=1)\n",
    "    sentiments = label_encoder.inverse_transform(indexs)\n",
    "    for sentence , sentiment in zip(sentences, sentiments):\n",
    "        print('')\n",
    "        print(sentence,'[', sentiment, ']')\n"
   ]
  },
  {
   "cell_type": "code",
   "execution_count": 52,
   "metadata": {},
   "outputs": [],
   "source": [
    "s = '''\n",
    "Walter Pritchard\n",
    "Good afternoon, and thank you for joining us for today's conference call to discuss Palo Alto Networks' fiscal third-quarter 2021 financial results. I'm Walter Pritchard, senior vice president of investor relations and corporate development. This call is being broadcast live over the web and can be accessed on the investors section of our website at investors.paloaltonetworks.com. With me on today's call are Nikesh Arora, our chairman and chief executive officer; Dipak Golechha, our chief financial officer; and Lee Klarich, our chief product officer.\n",
    "This afternoon, we issued a press release announcing our results for the fiscal third quarter ended April 30, 2021. If you would like a copy of the release, you can access it online on our website. We would like to remind you that during the course of this conference call, management will make forward-looking statements, including statements regarding the impact of COVID-19; the SolarWinds attack on our business, our customers; the enterprise and cybersecurity industry, and global economic conditions; our belief that cyber-attacks will continue to escalate, our expectations regarding a single equity structure; our expectations related to financial guidance, operating metrics and modeling points for the fiscal fourth quarter and fiscal year 2021; our expectations regarding our business strategy, our competitive position and the demand and market opportunity for our products and subscriptions, benefits and timing of new products, features, subscription offerings as well as other financial and operating trends. These forward-looking statements involve a number of risks and uncertainties, some of which are beyond our control, which could cause actual results to differ materially from those anticipated by these statements.\n",
    "These forward-looking statements apply as of today. You should not rely on them as representing our views in the future, and we undertake no obligation to update these statements after this call. For a more detailed description of these factors that could cause actual results to differ. Please refer to our quarterly report on Form 10-Q filed with the SEC on February 23, 2021, and our earnings release posted a few minutes ago on our website and filed with the SEC on Form 8-K.\n",
    "Also, please note that certain financial measures we use on this call are expressed on a non-GAAP basis and have been adjusted to exclude certain charges. For historical periods, we have provided reconciliations of these non-GAAP financial measures to our GAAP financial measures in the supplementary financial information that can be found in the Investors section of our website located at investors.paloaltonetworks.com. And finally, once we have completed our formal remarks, we will be posting them to our investor relations website under the quarterly results section. We'd also like to inform you that we'll be virtually participating in the JPMorgan 49th Annual Global Technology, Media and Telecommunications Conference on May 24 and the BofA Securities 2021 Global Technology Conference at June 8.\n",
    "Please also see the Investors section of our website for additional information about conferences that we may be participating in. And with that, I'd like to turn the call over to Nikesh.\n",
    "Nikesh Arora -- Chairman and Chief Executive Officer\n",
    "Thank you, Walter. Good afternoon, and thank you for joining us today for our earnings call. Let me begin with the current cybersecurity landscape. After the December SolarStorm attack, we saw an acceleration in attacks throughout our third quarter and after the quarter closed.\n",
    "These range from software supply chain attacks like SolarWinds and to run somewhere attacks like on your pipeline. Ransomware especially has been in a spotlight recently. And data from our own Unit 42 shows that the average ransom paid in 2020 tripled from 2019. And in 2021, it's more than doubled again.\n",
    "The highest demand we've seen is $50 million, up from $30 million in 2020, with organized groups with near nation-state discipline perpetrating coordinated attacks. The targets are not only corporations, with healthcare and pharma is a focus with the pandemic, but also government organization and shared infrastructure. The reason for this vulnerability is deep-seated. Organizations run their operations on technology that is decades old, sometimes predating the Internet.\n",
    "They continually bolt on new technologies to automate facilities and make them compatible with the modern Internet, but those platforms are inherently insecure. At the same time, cyber defenses are fragmented, making it very challenging to block sophisticated attacks and lengthening meantime to discovery and repair. Lastly, more and more businesses and consumers are coming online without a baseline of protection. In such a scenario, it is imperative that customers focus on securing their most critical assets while also focusing on reducing the fragmentation and leveraging new technologies like artificial intelligence and machine learning, and using those approaches.\n",
    "With that backdrop, let's focus on our results. Overall, we saw a continued strong demand environment and our own continued execution drove Q3 billings, revenue, and EPS ahead of guidance. We saw billings growth accelerate to 27% in Q3, ahead of our 24% revenue growth forecast with growing ratable revenue contribution. I want to highlight one dynamic regarding our billings to help you better understand the drivers.\n",
    "During COVID, some customers are asking for annual building plans to meet their needs. We noted to you that we saw success with larger, more strategic transactions in Q3. Along with these deals, we saw an uptick in annual billings plans. Normalizing for this, our billings would have grown greater than 28%, nearly two points higher than we reported, which is the highest billing growth we have seen in the third quarter since Q3 of fiscal year 2018.\n",
    "Last year, we saw billings plan have an approximate one-point impact. Along with billings, we also saw 38% growth in our remaining performance obligation. This metric is growing faster than both revenue and deferred revenue and will be a source of consistent revenue growth in the future. Within this strong performance, we also saw 71% growth in ARR, or annualized recurring revenue, from our next-generation security offerings, where we finished our third quarter at $970 million, up from $840 million in Q2.\n",
    "These ARR, billing, and RPO trends drove 24% year-over-year growth in our reported revenue. It's worth noting, given your attention to NGS ARR, that in the very first week and the first day of Q4, we transacted one of our largest next-generation security deals in the history of Palo Alto Networks, with a Fortune 30 manufacturer, which brought in $7 million in NGS ARR. So we're already at $980 million on the first day of this quarter. With the acceleration in incremental NGS ARR in Q3 and trends we see in the business, we continue to have confidence in our Q4 target of $1.15 billion in ending NGS ARR.\n",
    "As part of the strong Q3 performance, we saw notable momentum in large transactions with 901 customers having spent $1 million of Palo Alto Networks in the last four quarters. This cohort of customers was up 29% year over year, growing ahead of our overall revenue and billings growth. This growth in active million of customers has accelerated in recent quarters. As part of this large deal performance, our business is benefiting from growing adoption of multiple Palo Alto Networks security platforms across Charter, Prisma, and Cortex.\n",
    "In Q3, 70% of our Global 2000 customers had purchased products from more than one of these platforms, and 41% have purchased all three platforms. This is up from 58% and 25% two years ago. Turning to our product areas. Earlier this year, we started the dialogue around network security in cloud and AI and shared additional financial metrics to give you more transparency.\n",
    "Having these two product areas under the common umbrella of our world-class R&D and go-to-market organization is key to our strategy of being the largest cybersecurity company in the world. Starting with the network security side of our business. We are the leader in this business. Our strategy of selling customers leading firewall platform delivered through a hardware, software, or as-a-service form factor underpins our success in this market.\n",
    "This has resulted in a business that is 28% larger than our next peer on a revenue basis in Q3. Also, if you look at leading indicators that include deferred revenue and RPO, our scale comes through even further, we are 40% to 50% larger. On these leading balance sheet metrics, we're growing faster than our next peer. Three years ago when I joined Palo at Networks, we were a hardware-based firewall company.\n",
    "We had a vision of a hybrid world where the enterprise and data centers will remain predominantly hardware-oriented growing adoption of software form factors like our VMC's firewalls. Meanwhile, in the remote access and a more office world, this opportunity has been transformed by cloud adoption and work-from-home trends to fuel-secure access service edge, or SASE, adoption. The reception to our strategy of delivering a firewall in multiple form factors has enabled the accelerating firewall of the platform growth rates we just showed you. Within our firewalls and platform billings, we're seeing a distinct mix shift toward software.\n",
    "This software mix, which includes our VMs and SASE business now makes up 40% of firewall as a platform, up 21 percentage points from a year ago. We saw seven-figure transactions for our software firewall capability, including VMC in cities with a U.S. government agency, a Fortune 30 manufacturer, and a diversified financial services company. While we've seen the significant transition in form factors, one driver of growth and value in our business, our attach subscription and support have grown at a steady rate over the last several quarters on a revenue basis.\n",
    "We expect the software mix to continue to increase in the medium term, although along with this, we expect to continue to see attached subscriptions as a key growth driver. We're showing you for the first time here the NetSec annualized recurring revenue, which is 2.66 billion at the end of Q3 and grew 25%. As a reminder, this does not include our hardware business, which continues to be significant. This recurring revenue business is a key driver to strong cash generation, which we have guided to 42% for NetSec in FY '21.\n",
    "We believe this high degree of recurring revenue and strong cash flow generated by NetSec is something that should be more clear now given this incremental disclosure over the last two quarters. Now turning to innovation and focusing first on Prisma SaaS. Back at the beginning of the pandemic, we saw customers look to significantly expand remote access capability while not compromising security or user experience. We've met that demand with free remote access trials and broad proof of concept, enabling customers to see that value in Prisma Access, as well as supporting the network transformation as they move to the cloud.\n",
    "We're seeing these efforts, as well as momentum generated from the 2.0 launch, driving strong initial purchase and footprint of expansions. This quarter, we saw a number of large Prisma Access transactions, including a global technology company, a large manufacturer, and a Fortune 10 healthcare company, all eight figures or greater. Additionally, over 25% of our Prisma Access new customers in Q3 were net due to Palo Alto Networks. Lastly, we're seeing early traction in our service provider partners for Prisma Access, including Comcast, Verizon, Orange Business Services.\n",
    "These relationships are part of broad initiatives with service providers that we see as a significant growth opportunity. Just yesterday, we announced a significant release in network security focused on a comprehensive approach to Zero Trust. This is timed well with last week's executive order out of the White House that defines Zero Trust in a way that is very consistent with the Palo Alto Network strategy. There's been a lot of noise in the industry around Zero Trust Network Access, but solutions continue to be fragmented around either remote users, access control, or enterprise apps.\n",
    "Our approach covers all users and devices, all locations, all apps, and the Internet applying consistent access control and security. Our new PAN-OS 10.1 release brings cloud-based identity controls, integrated CASB, and enhancements to our URL and DNS security services. Palo Alto Networks' position across appliance, software, and SaaS is unique, and these new innovations are applicable to all our customers across all form factors. This is one of the most significant innovation releases for our next core next-generation firewall franchise and gives us confidence in continued NetSec growth as we look forward.\n",
    "Now moving on to cloud and AI. On the Prisma Cloud front, we continue to build on our early leadership position in cloud security posture management, cloud workload protection capability, and marketplace delivered virtual firewalls where we are the largest player across this opportunity set. Our strategy is to stay ahead of customer demand as they adopt cloud-native security services across hyperscalers. We believe we have staked out a leadership position in cloud-native security of this business.\n",
    "We have achieved over $250 million in ARR across Prisma Cloud in our marketplace, VM and CN Series. Fueling this growth is 39% growth in total customers and 38% growth in Global 2000 customers across Prisma Cloud. Our unique consumption model in Prisma Cloud based on credits enables customers to use any of our modules across their cloud-deployed workloads, including using multiple capabilities per workload. We're seeing strong growth in credit consumption with over 100% growth year over year in Q3.\n",
    "Despite our strong position with Prisma Cloud, targeting an early opportunity, we see the next big challenge in security at the developer level or Shift Left security. We recently addressed this with our acquisition of Bridgecrew completed in Q3. Traditionally, security issues in code was a challenge for the CISO organization. And we're seeing leading companies drive a collaborative approach between the CISO organization and the development organization to address this.\n",
    "Shift Left integrates security into the DevOps process to cash these issues upfront, where they're easy and quick to fit. It's a win for developers and a win for security. Bridgecrew has an open source product, Checkov. This product delivers significant value to developers through a free download.\n",
    "Post the acquisition close and the release of 2.0 of Checkov, we saw Bridgecrew downloads accelerate. Bridgecrew is also seeing strong momentum in its paid customers, including a six-figure customer in Q3. We're only in the very early stages of cross-selling between Bridgecrew software and Prisma Cloud. Within our Cortex product area, we continue to focus on delivering significant volumes innovation to XDR, XSOAR, and our recently acquired Expanse product.\n",
    "In Q3, we delivered a new release of XDR, which expands endpoint create capability, and improves visibility into network activity. With XSOAR, we significantly expanded our marketplace partner integrations to increase the set of automation and security playbooks that customers can deploy. We're seeing this result in steady Cortex customer additions to XDR and XSOAR customers. We have over 2,400 customers starting from essentially scratch two years ago.\n",
    "Our focus on innovation has been validated by the market as well. We were particularly proud of this validation for Cortex XDR in Q3, where we garnered the best overall result in ground three testing for [Inaudible]. Also in the recently released Forrester Wave covering endpoint security software-as-a-service market, we were named the leader. Cortex XSOAR 100 partner contributed content packs and now has over -- 650 content packs in the marketplace.\n",
    "Our Expanse offering was featured in Tim Junio's keynote this week at RSA, where our research uncovered that one-third of leading organizations attack surface is susceptible to exposure that are the main avenue for ransomware. No other leading security company has the degree of visibility to identify and prevent today's most pernicious attack vector. Within Cortex, we are starting to see an uptick in large customer signings such as a seven-figure transaction with a financial services firm, which included XDR Pro and XSOAR. Lastly, during Q3, we formed the new Unit 42 under the leadership of Wendi Whitmore, who comes to Palo Alto Networks after building successful security services businesses.\n",
    "Our new team is a combination of two of the most capable teams of cybersecurity. The Crypsis team is laser focused on the mission of conducting world-class data breach investigations while Unit 42 team has focused on rapidly building set intelligence into Palo Alto Networks product. This new Unit 42 has completed over 1,300 engagements in calendar year 2020, bringing to bear the power of 140 consultants. In response to SolarWinds and ransomware attacks, Microsoft-rated breaches, and other attacks, we've mobilized our consultants and rapid response engagements, which help customers through these difficult times.\n",
    "As we look forward, we're focused on using services to become an even more strategic partner to our customers. As I reviewed with you here and should be evident in our Q3 results, we're seeing broad strength in our business across geographies and product areas. We see strength in our pipeline and continued demand tailwinds that remain strong, leading us to raise our FY '21 guidance. I also want to update you on our plans we discussed in Q2 around exploring an equity structure for ClaiSec.\n",
    "We continue to focus on providing transparency for each of our business. You'll notice the IRR for NetSec, which we highlighted this quarter. We believe this has helped investors gain better insight into our overall financial profile and especially understanding both sides of the business with a different growth and free cash flow characteristics. We have finished all the work required to file any form of equity on ClaiSec.\n",
    "However, given the state of the market and offering extensive conversation of shareholders, we have decided at this point is best to continue with a single equity structure and an integrated P&L and postpone any decision to list places like equity. Lastly, we're excited to welcome Aparna Bawa, chief operating officer of Zoom, to Palo Alto Networks' board of directors. She brings deep operational, financial, and legal expertise, having served in diverse roles at rapidly growing tech companies such as Zoom, Magento, and Nimble. Her addition comes off of the February appointment of Dr.\n",
    "Helene Gayle to our board. We continue to have a strong commitment to diversity at Palo Alto Networks, including at the most senior levels of governance in our company. With that, I will turn the call over to Dipak Golechha, our CFO. We're excited to have Dipak step into the CFO role and enable a smooth transition within our organization.\n",
    "He brings world-class experience We're already seeing him bring some of his experience to bear in driving improvements. Over to you, Dipak.\n",
    "Dipak Golechha -- Chief Financial Officer\n",
    "Thanks, Nikesh. I'm excited and humbled to be part of this world-class leadership team and look forward to driving total shareholder return. As Nikesh indicated, we had a strong third quarter as we continue to deliver winning innovation while simultaneously adding new customers at pace. This strength gives us confidence to raise guidance for the year.\n",
    "We delivered billings of $1.3 billion, up 27% year over year with strong growth across the board and ahead of our guidance of 20% to 22% growth. We've continued to see some customers ask for billing plans, many involving larger transactions as we become a more strategic partner to our customers. We've also used our Palo Alto Networks Financial Services financing capability here. The dollar-weighted contract duration for new subscription and support billings in the quarter were consistent year over year and remained at approximately three years.\n",
    "We added approximately 2,400 new customers in the quarter. Total deferred revenue at the end of Q3 was $4.4 billion, an increase of 30% year over year. Remaining performance obligation, or RPO, was $4.9 billion, an increase of 38% year over year. We continue to see these metrics as becoming more meaningful as we drive growth from our ratable business.\n",
    "Our revenue of $1.07 billion grew 24% year over year, ahead of our guidance of 21% to 22% growth, driven by our billings and broad business strength and amid an increase in our ratable subscription revenue. We remain focused on driving this higher-quality revenue with all new product offerings being pure or substantially all subscription in nature. Looking at growth by geography. The Americas grew 24%, EMEA grew 23%, and APAC grew 25%, showing broad executional excellence across the world.\n",
    "Q3 product revenue of $289 million increased 3% compared to prior year. Q3 subscription revenue of $474 million increased 34%. Support revenue of $311 million increased 33%. In total, subscription and support revenue of $785 million increased 33% and accounted for 73% of total revenue.\n",
    "Our Q3 non-GAAP gross margin was 74.6%, which was down 60 basis points compared to last year, driven by product mix which are less mature. Q3 non-GAAP operating margin was 17%, an increase of 60 basis points year over year. There are several factors driving our operating margins. We have revenue upside, lower travel and event expenses due to COVID, and some shift in spending out of Q3.\n",
    "At the same time, we continue to aggressively invest the growth largely in the areas of sales capacity and R&D investments. With health conditions improving in geographies of many of our facilities, including our Santa Clara headquarters, we're seeing more employees look to return to the office. We expect this trend will continue to gain steam in Q4, reversing some of the savings we had seen in the last few quarters in our opex. Non-GAAP net income for the third quarter increased 22% to $140 million or $1.38 per diluted share.\n",
    "Our non-GAAP effective tax rate for Q3 was 22%. The EPS expansion was driven by revenue growth and operating expense leverage with an undertone of strong investments of growth. On a GAAP basis for the third quarter, net loss increased to $140 million or $1.50 per basic and diluted share. We ended the third quarter with 9,715 employees, including 39 from the Bridgecrew at the close of acquisition.\n",
    "Turning to the balance sheet and cash flow statement. We finished April with cash, cash equivalents, and investments of $3.8 billion. Q3 cash flow from operations of $278 million increased by 64% year over year. Free cash flow was $251 million, up 100% at a margin of 23.4%.\n",
    "Our DSO was 60 days, a decrease from three days from the prior-year period and flat to the second quarter. Our Firewall as a Platform, or FWaaP, had another strong quarter as we continue to grow faster than the market. FWaaP billings grew 26% in Q3, and we continue our transition from hardware to software and SaaS form factors, as Nikesh highlighted. Our next-generation security, or NGS, continues to expand and now represents 27% of our total billings at $346 million, growing at 70% year over year.\n",
    "In the third quarter, we added $133 million in new NGS ARR, reaching $973 million. The acquisition of Bridgecrew added an immaterial amount to this number, and we remain confident in our plan to achieving $1.15 billion in NGS ARR exiting fiscal year '21. Turning now to guidance and modeling points. For the fourth quarter of 2021, we expect billings to be in the range of $1.695 billion to $1.715 billion, an increase of 22% to 23% year over year.\n",
    "We expect revenue to be in the range of $1.165 billion to $1.175 billion, an increase of 23% to 24% year over year. We expect non-GAAP EPS to be in the range of $1.42 to $1.44 using 101 million to 103 million shares. Additionally, I'd like to provide some modeling points. We expect our Q4 non-GAAP effective tax rate to remain at 22% and our capex in Q4 to be approximately $30 million to $35 million.\n",
    "As Nikesh indicated, we're seeing broad drivers across our business in Q3, driven by a foundation of innovation and strong sales execution. Along with trends we see in our pipeline and demand tailwinds that remain strong, we're raising our fiscal year '21 guidance. We expect billings to be in the range of $5.28 billion to $5.3 billion, an increase of 23% year over year. We continue to expect next-generation security ARR to be approximately $1.15 billion, an increase of 77% year over year.\n",
    "We expect revenue to be in the range of $4.2 billion to $4.21 billion, an increase of 23% to 24% year over year. We expect product revenue growth of 1% to 2% year over year. We expect operating margins to improve by 50% -- 50 basis points year over year. We expect non-GAAP EPS to be in the range of $597 million to $599 million, using 90 to 101 million shares.\n",
    "We expect -- regarding free cash flow for the full year, we expect an adjusted free cash flow margin of approximately 30%. Now let's review our fiscal year projections for NetSec and ClaiSec. Overall, we are confirming our ClaiSec projections while raising our NetSec billings by 300 basis points and revenue by 100 basis points given the strong performance of SASE, VM Series, and subscription business overall within NetSec. Moving on to adjusted free cash flow.\n",
    "We expect network security will deliver a free cash flow margin of 42% in fiscal year '21, up from 38% in fiscal year '20. We continue to expect cloud and AI-free cash flow margin of minus 43% in fiscal year '21, an improvement from negative 59% in fiscal year '20. While we are focused on growth investments in cloud and AI, over time, we expect cloud and AI to achieve gross, operating, and free cash flow margins in line with industry benchmarks as we gain scale, our customer base matures, and we become more efficient. In Q3, we repurchased $350 million in our own stock at an average price of $322.\n",
    "As of April 30, 2021, we had $652 million remaining available for repurchases. This is part of a broader capital allocation strategy focused on balancing priorities and maximizing total shareholder return. We start with fueling organic investments and managing priorities across innovation, go-to-market to set the foundation for sustainable growth at Palo Alto Networks. Second, we've deployed capital for targeted acquisitions, which accelerate this growth opportunity.\n",
    "We rigorously evaluate targets, focused on acquiring leading technology, retaining key members of the team, and following through with integrating these acquisitions into our businesses. Finally, we work to optimize our capital structure using the options available to us in this dynamic market. That includes deploying debt, using stock to M&A consideration, and also buying back our own stock when we see it representing a good value. With that, let's move on to the Q&A portion of the call.\n",
    "'''\n"
   ]
  },
  {
   "cell_type": "code",
   "execution_count": 57,
   "metadata": {},
   "outputs": [],
   "source": [
    "text2 = \"Shares in the spin-off of South African e-commerce group Naspers surged more than 25% \\\n",
    "in the first minutes of their market debut in Amsterdam on Wednesday. Bob van Dijk, CEO of \\\n",
    "Naspers and Prosus Group poses at Amsterdam's stock exchange, as Prosus begins trading on the \\\n",
    "Euronext stock exchange in Amsterdam, Netherlands, September 11, 2019. REUTERS/Piroschka van de Wouw \\\n",
    "Prosus comprises Naspers’ global empire of consumer internet assets, with the jewel in the crown a \\\n",
    "31% stake in Chinese tech titan Tencent. There is 'way more demand than is even available, so that’s \\\n",
    "good,' said the CEO of Euronext Amsterdam, Maurice van Tilburg. 'It’s going to be an interesting \\\n",
    "hour of trade after opening this morning.' Euronext had given an indicative price of 58.70 euros \\\n",
    "per share for Prosus, implying a market value of 95.3 billion euros ($105 billion). The shares \\\n",
    "jumped to 76 euros on opening and were trading at 75 euros at 0719 GMT.\""
   ]
  },
  {
   "cell_type": "code",
   "execution_count": 59,
   "metadata": {},
   "outputs": [
    {
     "name": "stdout",
     "output_type": "stream",
     "text": [
      "\n",
      "Shares in the spin-off of South African e-commerce group Naspers surged more than 25% in the first minutes of their market debut in Amsterdam on Wednesday. [ positive ]\n",
      "\n",
      "Bob van Dijk, CEO of Naspers and Prosus Group poses at Amsterdam's stock exchange, as Prosus begins trading on the Euronext stock exchange in Amsterdam, Netherlands, September 11, 2019. [ neutral ]\n",
      "\n",
      "REUTERS/Piroschka van de Wouw Prosus comprises Naspers’ global empire of consumer internet assets, with the jewel in the crown a 31% stake in Chinese tech titan Tencent. [ neutral ]\n",
      "\n",
      "There is 'way more demand than is even available, so that’s good,' said the CEO of Euronext Amsterdam, Maurice van Tilburg. [ positive ]\n",
      "\n",
      "'It’s going to be an interesting hour of trade after opening this morning.' [ positive ]\n",
      "\n",
      "Euronext had given an indicative price of 58.70 euros per share for Prosus, implying a market value of 95.3 billion euros ($105 billion). [ neutral ]\n",
      "\n",
      "The shares jumped to 76 euros on opening and were trading at 75 euros at 0719 GMT. [ positive ]\n"
     ]
    }
   ],
   "source": [
    "get_sentiment(text2)"
   ]
  },
  {
   "cell_type": "code",
   "execution_count": null,
   "metadata": {},
   "outputs": [],
   "source": []
  }
 ],
 "metadata": {
  "kernelspec": {
   "display_name": "tf_env",
   "language": "python",
   "name": "tf_env"
  },
  "language_info": {
   "codemirror_mode": {
    "name": "ipython",
    "version": 3
   },
   "file_extension": ".py",
   "mimetype": "text/x-python",
   "name": "python",
   "nbconvert_exporter": "python",
   "pygments_lexer": "ipython3",
   "version": "3.8.5"
  }
 },
 "nbformat": 4,
 "nbformat_minor": 4
}
